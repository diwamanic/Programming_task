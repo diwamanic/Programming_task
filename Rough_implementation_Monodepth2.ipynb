{
  "nbformat": 4,
  "nbformat_minor": 0,
  "metadata": {
    "colab": {
      "name": "Untitled5.ipynb",
      "provenance": [],
      "authorship_tag": "ABX9TyNpRFe2fPoR9fc44HO8R2/n",
      "include_colab_link": true
    },
    "kernelspec": {
      "name": "python3",
      "display_name": "Python 3"
    },
    "language_info": {
      "name": "python"
    },
    "accelerator": "GPU"
  },
  "cells": [
    {
      "cell_type": "markdown",
      "metadata": {
        "id": "view-in-github",
        "colab_type": "text"
      },
      "source": [
        "<a href=\"https://colab.research.google.com/github/diwamanic/Programming_task/blob/master/Rough_implementation_Monodepth2.ipynb\" target=\"_parent\"><img src=\"https://colab.research.google.com/assets/colab-badge.svg\" alt=\"Open In Colab\"/></a>"
      ]
    },
    {
      "cell_type": "code",
      "execution_count": 1,
      "metadata": {
        "colab": {
          "base_uri": "https://localhost:8080/"
        },
        "id": "530IaareqRHk",
        "outputId": "517393fc-3188-48dd-da90-bcbf2875ec1b"
      },
      "outputs": [
        {
          "output_type": "stream",
          "name": "stdout",
          "text": [
            "Cloning into 'monodepth2'...\n",
            "remote: Enumerating objects: 180, done.\u001b[K\n",
            "remote: Counting objects: 100% (4/4), done.\u001b[K\n",
            "remote: Compressing objects: 100% (4/4), done.\u001b[K\n",
            "remote: Total 180 (delta 0), reused 3 (delta 0), pack-reused 176\u001b[K\n",
            "Receiving objects: 100% (180/180), 10.27 MiB | 25.66 MiB/s, done.\n",
            "Resolving deltas: 100% (87/87), done.\n"
          ]
        }
      ],
      "source": [
        "!git clone https://github.com/nianticlabs/monodepth2.git"
      ]
    },
    {
      "cell_type": "code",
      "source": [
        "!python test_simple.py --image_path assets/test_image.jpg --model_name mono+stereo_640x192"
      ],
      "metadata": {
        "colab": {
          "base_uri": "https://localhost:8080/"
        },
        "id": "Ex5RNg8ZrKtP",
        "outputId": "9196ed0a-eb5b-4ca5-c9fc-aa01cb1ddb71"
      },
      "execution_count": 4,
      "outputs": [
        {
          "output_type": "stream",
          "name": "stdout",
          "text": [
            "python3: can't open file 'test_simple.py': [Errno 2] No such file or directory\n"
          ]
        }
      ]
    },
    {
      "cell_type": "code",
      "source": [
        "!pwd"
      ],
      "metadata": {
        "colab": {
          "base_uri": "https://localhost:8080/"
        },
        "id": "QiV4fQQdvCNh",
        "outputId": "45208b32-6d77-4633-c423-7822de0b40b2"
      },
      "execution_count": 2,
      "outputs": [
        {
          "output_type": "stream",
          "name": "stdout",
          "text": [
            "/content\n"
          ]
        }
      ]
    },
    {
      "cell_type": "code",
      "source": [
        "cd monodepth2"
      ],
      "metadata": {
        "colab": {
          "base_uri": "https://localhost:8080/"
        },
        "id": "M9fublPgrfl8",
        "outputId": "adc13e25-1a6b-4576-f71f-93eb8f94239e"
      },
      "execution_count": 3,
      "outputs": [
        {
          "output_type": "stream",
          "name": "stdout",
          "text": [
            "/content/monodepth2\n"
          ]
        }
      ]
    },
    {
      "cell_type": "code",
      "source": [
        "!python test_simple.py --image_path assets/FLIR_00004.jpg --model_name mono+stereo_640x192 --pred_metric_depth"
      ],
      "metadata": {
        "colab": {
          "base_uri": "https://localhost:8080/"
        },
        "id": "c348UBUHro7v",
        "outputId": "12df3ef1-ab43-4f71-c4f7-640b9d0867e1"
      },
      "execution_count": 19,
      "outputs": [
        {
          "output_type": "stream",
          "name": "stdout",
          "text": [
            "-> Loading model from  models/mono+stereo_640x192\n",
            "   Loading pretrained encoder\n",
            "   Loading pretrained decoder\n",
            "-> Predicting on 1 test images\n",
            "   Processed 1 of 1 images - saved predictions to:\n",
            "   - assets/FLIR_00004_disp.jpeg\n",
            "   - assets/FLIR_00004_depth.npy\n",
            "-> Done!\n"
          ]
        }
      ]
    },
    {
      "cell_type": "code",
      "source": [
        "!python train.py --model_name mono_model"
      ],
      "metadata": {
        "colab": {
          "base_uri": "https://localhost:8080/"
        },
        "id": "CPgX6V_yrucE",
        "outputId": "9a005c47-26f7-4eac-b4c0-7ae76dcd7129"
      },
      "execution_count": 20,
      "outputs": [
        {
          "output_type": "stream",
          "name": "stdout",
          "text": [
            "Traceback (most recent call last):\n",
            "  File \"train.py\", line 9, in <module>\n",
            "    from trainer import Trainer\n",
            "  File \"/content/monodepth2/trainer.py\", line 16, in <module>\n",
            "    from tensorboardX import SummaryWriter\n",
            "ModuleNotFoundError: No module named 'tensorboardX'\n"
          ]
        }
      ]
    },
    {
      "cell_type": "code",
      "source": [
        "!pip install tensorboardX"
      ],
      "metadata": {
        "colab": {
          "base_uri": "https://localhost:8080/"
        },
        "id": "wvz-zDWJwvu1",
        "outputId": "4f2246bc-884e-44a3-b80b-6e60f99d845b"
      },
      "execution_count": 5,
      "outputs": [
        {
          "output_type": "stream",
          "name": "stdout",
          "text": [
            "Collecting tensorboardX\n",
            "  Downloading tensorboardX-2.4.1-py2.py3-none-any.whl (124 kB)\n",
            "\u001b[?25l\r\u001b[K     |██▋                             | 10 kB 33.6 MB/s eta 0:00:01\r\u001b[K     |█████▎                          | 20 kB 39.0 MB/s eta 0:00:01\r\u001b[K     |███████▉                        | 30 kB 41.0 MB/s eta 0:00:01\r\u001b[K     |██████████▌                     | 40 kB 23.9 MB/s eta 0:00:01\r\u001b[K     |█████████████▏                  | 51 kB 22.9 MB/s eta 0:00:01\r\u001b[K     |███████████████▊                | 61 kB 25.7 MB/s eta 0:00:01\r\u001b[K     |██████████████████▍             | 71 kB 19.7 MB/s eta 0:00:01\r\u001b[K     |█████████████████████           | 81 kB 21.2 MB/s eta 0:00:01\r\u001b[K     |███████████████████████▋        | 92 kB 23.1 MB/s eta 0:00:01\r\u001b[K     |██████████████████████████▎     | 102 kB 22.5 MB/s eta 0:00:01\r\u001b[K     |█████████████████████████████   | 112 kB 22.5 MB/s eta 0:00:01\r\u001b[K     |███████████████████████████████▌| 122 kB 22.5 MB/s eta 0:00:01\r\u001b[K     |████████████████████████████████| 124 kB 22.5 MB/s \n",
            "\u001b[?25hRequirement already satisfied: numpy in /usr/local/lib/python3.7/dist-packages (from tensorboardX) (1.19.5)\n",
            "Requirement already satisfied: protobuf>=3.8.0 in /usr/local/lib/python3.7/dist-packages (from tensorboardX) (3.17.3)\n",
            "Requirement already satisfied: six>=1.9 in /usr/local/lib/python3.7/dist-packages (from protobuf>=3.8.0->tensorboardX) (1.15.0)\n",
            "Installing collected packages: tensorboardX\n",
            "Successfully installed tensorboardX-2.4.1\n"
          ]
        }
      ]
    },
    {
      "cell_type": "code",
      "source": [
        "!python train.py --model_name mono_model"
      ],
      "metadata": {
        "colab": {
          "base_uri": "https://localhost:8080/"
        },
        "id": "seg1rfA_w1u4",
        "outputId": "61f6e26b-6d85-4e8e-862e-fd107fa27f35"
      },
      "execution_count": 6,
      "outputs": [
        {
          "output_type": "stream",
          "name": "stdout",
          "text": [
            "Downloading: \"https://download.pytorch.org/models/resnet18-f37072fd.pth\" to /root/.cache/torch/hub/checkpoints/resnet18-f37072fd.pth\n",
            "100% 44.7M/44.7M [00:00<00:00, 279MB/s]\n",
            "Training model named:\n",
            "   mono_model\n",
            "Models and tensorboard events files are saved to:\n",
            "   /root/tmp\n",
            "Training is using:\n",
            "   cuda\n",
            "/usr/local/lib/python3.7/dist-packages/torchvision/transforms/transforms.py:288: UserWarning: Argument interpolation should be of type InterpolationMode instead of int. Please, use InterpolationMode enum.\n",
            "  \"Argument interpolation should be of type InterpolationMode instead of int. \"\n",
            "/usr/local/lib/python3.7/dist-packages/torch/utils/data/dataloader.py:481: UserWarning: This DataLoader will create 12 worker processes in total. Our suggested max number of worker in current system is 2, which is smaller than what this DataLoader is going to create. Please be aware that excessive worker creation might get DataLoader running slow or even freeze, lower the worker number to avoid potential slowness/freeze if necessary.\n",
            "  cpuset_checked))\n",
            "Using split:\n",
            "   eigen_zhou\n",
            "There are 39810 training items and 4424 validation items\n",
            "\n",
            "/usr/local/lib/python3.7/dist-packages/torch/optim/lr_scheduler.py:134: UserWarning: Detected call of `lr_scheduler.step()` before `optimizer.step()`. In PyTorch 1.1.0 and later, you should call them in the opposite order: `optimizer.step()` before `lr_scheduler.step()`.  Failure to do this will result in PyTorch skipping the first value of the learning rate schedule. See more details at https://pytorch.org/docs/stable/optim.html#how-to-adjust-learning-rate\n",
            "  \"https://pytorch.org/docs/stable/optim.html#how-to-adjust-learning-rate\", UserWarning)\n",
            "Training\n",
            "Traceback (most recent call last):\n",
            "  File \"train.py\", line 18, in <module>\n",
            "    trainer.train()\n",
            "  File \"/content/monodepth2/trainer.py\", line 189, in train\n",
            "    self.run_epoch()\n",
            "  File \"/content/monodepth2/trainer.py\", line 201, in run_epoch\n",
            "    for batch_idx, inputs in enumerate(self.train_loader):\n",
            "  File \"/usr/local/lib/python3.7/dist-packages/torch/utils/data/dataloader.py\", line 521, in __next__\n",
            "    data = self._next_data()\n",
            "  File \"/usr/local/lib/python3.7/dist-packages/torch/utils/data/dataloader.py\", line 1203, in _next_data\n",
            "    return self._process_data(data)\n",
            "  File \"/usr/local/lib/python3.7/dist-packages/torch/utils/data/dataloader.py\", line 1229, in _process_data\n",
            "    data.reraise()\n",
            "  File \"/usr/local/lib/python3.7/dist-packages/torch/_utils.py\", line 434, in reraise\n",
            "    raise exception\n",
            "FileNotFoundError: Caught FileNotFoundError in DataLoader worker process 0.\n",
            "Original Traceback (most recent call last):\n",
            "  File \"/usr/local/lib/python3.7/dist-packages/torch/utils/data/_utils/worker.py\", line 287, in _worker_loop\n",
            "    data = fetcher.fetch(index)\n",
            "  File \"/usr/local/lib/python3.7/dist-packages/torch/utils/data/_utils/fetch.py\", line 49, in fetch\n",
            "    data = [self.dataset[idx] for idx in possibly_batched_index]\n",
            "  File \"/usr/local/lib/python3.7/dist-packages/torch/utils/data/_utils/fetch.py\", line 49, in <listcomp>\n",
            "    data = [self.dataset[idx] for idx in possibly_batched_index]\n",
            "  File \"/content/monodepth2/datasets/mono_dataset.py\", line 161, in __getitem__\n",
            "    inputs[(\"color\", i, -1)] = self.get_color(folder, frame_index + i, side, do_flip)\n",
            "  File \"/content/monodepth2/datasets/kitti_dataset.py\", line 50, in get_color\n",
            "    color = self.loader(self.get_image_path(folder, frame_index, side))\n",
            "  File \"/content/monodepth2/datasets/mono_dataset.py\", line 23, in pil_loader\n",
            "    with open(path, 'rb') as f:\n",
            "FileNotFoundError: [Errno 2] No such file or directory: '/content/monodepth2/kitti_data/2011_09_30/2011_09_30_drive_0033_sync/image_03/data/0000000599.jpg'\n",
            "\n"
          ]
        }
      ]
    },
    {
      "cell_type": "code",
      "source": [
        ""
      ],
      "metadata": {
        "id": "f6I6ID4Rw5mh"
      },
      "execution_count": null,
      "outputs": []
    }
  ]
}